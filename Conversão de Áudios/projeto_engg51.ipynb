{
 "cells": [
  {
   "cell_type": "markdown",
   "id": "23888980",
   "metadata": {},
   "source": [
    "<h1 style=font-family: \"Times New Roman\", Times, serif;>PROJETO ENGG51 - TRANSFORMAÇÃO DE ÁUDIOS</h1>"
   ]
  },
  {
   "cell_type": "markdown",
   "id": "afe925a1",
   "metadata": {},
   "source": [
    "<h3> Intalação de bibliotecas necessárias</h3>"
   ]
  },
  {
   "cell_type": "code",
   "execution_count": null,
   "id": "bf94302e",
   "metadata": {},
   "outputs": [],
   "source": [
    "!pip install pydub\n",
    "!pip install numpy\n",
    "!pip install matplotlib\n",
    "!pip install --upgrade google-api-python-client google-auth-httplib2 google-auth-oauthlib\n",
    "!pip install gspread\n",
    "#Bibliotecas sys e os já existem no sistema windows"
   ]
  },
  {
   "cell_type": "markdown",
   "id": "fb51ef14",
   "metadata": {},
   "source": [
    "<h3>Etapa de carregamento de arquivos e indexação</h3>"
   ]
  },
  {
   "cell_type": "code",
   "execution_count": null,
   "id": "6404d486",
   "metadata": {
    "scrolled": true
   },
   "outputs": [],
   "source": [
    "#Importando bibliotecas\n",
    "import os\n",
    "from pydub import AudioSegment\n",
    "\n",
    "#Busca o diretório de trabalho\n",
    "diretorio = ('C:\\\\Users\\\\JuuHH\\\\Documents\\\\Projeto ENGG51')\n",
    "\n",
    "#Define vetores\n",
    "nomeInicial = []\n",
    "nomeAlterado = []\n",
    "nomeFinal = []\n",
    "\n",
    "#ETAPA 1 - Indexação numérica de arquivos\n",
    "i=0\n",
    "for arquivo in os.listdir(diretorio):                                           #Busca arquivos no diretório\n",
    "    if (arquivo).endswith('.wav'):\n",
    "        i+=1 \n",
    "        \n",
    "        antigoNome = diretorio+'\\\\'+arquivo\n",
    "        novoNome = diretorio+'\\\\'+str(i)+'.wav'\n",
    "        \n",
    "        os.rename(antigoNome,novoNome)                                           #Renomeia\n",
    "        \n",
    "        nomeInicial.append(arquivo)\n",
    "        nomeAlterado.append(str(i)+'.wav')\n",
    "        \n",
    "print(\"Os arquivos \", nomeInicial, \" foram renomeados para \", nomeAlterado)      #Resultados da etapa\n",
    "\n",
    "#ETAPA 2 - Conversão de arquivos de stereo para mono\n",
    "i = 0\n",
    "for arquivo in os.listdir(diretorio):                              #Busca arquivos no diretório\n",
    "    if (arquivo).endswith('.wav'):\n",
    "        i+=1\n",
    "        nome = str(i)+'_mono'+'.wav'\n",
    "        sound = AudioSegment.from_wav(diretorio+'\\\\'+arquivo)      #seleção do arquivo para conversão\n",
    "        sound = sound.set_channels(1)                              #setagem de canais do arquivo\n",
    "        sound.export(diretorio+'\\\\'+nome, format=\"wav\")            #exportação do arquivo convertido\n",
    "        \n",
    "        nomeFinal.append(nome)                                     #armazena nome dos arquivos mono\n",
    "        \n",
    "        \n",
    "print(\"Os seguintes arquivos de áudio mono foram gerados: \\n\", nomeFinal) \n",
    "\n"
   ]
  },
  {
   "cell_type": "markdown",
   "id": "14e32a2e",
   "metadata": {},
   "source": [
    "<h3>Etapa de plotagem de gráfico</h3>"
   ]
  },
  {
   "cell_type": "code",
   "execution_count": null,
   "id": "02110efb",
   "metadata": {},
   "outputs": [],
   "source": [
    "import matplotlib.pyplot as plt\n",
    "import numpy as np\n",
    "import wave, sys \n",
    "\n",
    "#exemplo de endereço => 'C:\\\\Users\\\\JuuHH\\\\Documents\\\\Projeto ENGG51\\\\1_mono.wav'\n",
    "\n",
    "print(\"Entre com o endereço do arquivo que deseja gerar o gráfico: \\n\")\n",
    "endereco = input()\n",
    "\n",
    "#ETAPA 3 - plota o eixo x em segundos usando a taxa de quadros\n",
    "\n",
    "def visualize(path: str): \n",
    "    \n",
    "    raw = wave.open(endereco)                                         #Abre arquivos de áudio\n",
    "\n",
    "    signal = raw.readframes(-1)                                       #Lê todos os frames da onda sonora aberta\n",
    "    signal = np.frombuffer(signal, dtype =\"int16\")                    \n",
    "\n",
    "    f_rate = raw.getframerate()                                       #Armazena a taxa de quadros em uma variável\n",
    "\n",
    "    time = np.linspace(0, len(signal) / f_rate, num = len(signal))    \n",
    "\n",
    "#Traça o gráfico derivado \n",
    "\n",
    "    plt.figure(1)                                                                  \n",
    "    plt.title(\"Sound Wave\") \n",
    "    plt.xlabel(\"Time\") \n",
    "\n",
    "    plt.plot(time, signal)                                            \n",
    "\n",
    "    plt.show() \n",
    "\n",
    "    \n",
    "if __name__ == \"__main__\": \n",
    "    path = sys.argv[1] \n",
    "    visualize(endereco) "
   ]
  },
  {
   "cell_type": "markdown",
   "id": "e8757ad7",
   "metadata": {},
   "source": [
    "<h3>Escrita em Planilha Google</h3>"
   ]
  },
  {
   "cell_type": "code",
   "execution_count": null,
   "id": "cfc048c4",
   "metadata": {},
   "outputs": [],
   "source": [
    "import time\n",
    "import numpy as np\n",
    "import wave, sys \n",
    "import gspread\n",
    "import itertools \n",
    "from google.oauth2 import service_account\n",
    "from google.auth.transport.requests import Request\n",
    "from google.oauth2.credentials import Credentials\n",
    "\n",
    "#exemplo de endereço => 'C:\\\\Users\\\\JuuHH\\\\Documents\\\\Projeto ENGG51\\\\1_mono.wav'\n",
    "\n",
    "# permissoes pra gerenciar a planilha\n",
    "scopes = [\"https://www.googleapis.com/auth/spreadsheets\",\n",
    "          \"https://www.googleapis.com/auth/drive\"]\n",
    "\n",
    "# arquivo que contem informacoes da conta de servico          \n",
    "key_file = 'C:\\\\Users\\\\JuuHH\\\\JN Projects\\\\key.json'\n",
    "\n",
    "infosAudio = []\n",
    "\n",
    "print(\"Entre com o endereço do arquivo que deseja transcrever os dados: \\n\")\n",
    "endereco = input()\n",
    "\n",
    "# recolhe informacoes dos audios escolhidos \n",
    "def relatorio(endereco: str): \n",
    "    with wave.open(endereco) as wf:\n",
    "        infosAudio.append(endereco.split(\"\\\\\")[10])                               #Nome do arquivo\n",
    "        infosAudio.append(wf.getnchannels())                                      #Número de canais\n",
    "        infosAudio.append(wf.getnframes())                                        #Número de quadros\n",
    "        infosAudio.append(wf.getframerate())                                      #Taxa de quadros\n",
    "        infosAudio.append(wf.getsampwidth())                                      #Largura das amostras\n",
    "        infosAudio.append(round(wf.getnframes() / wf.getframerate(), 2))          #duração do audio em segundos\n",
    "        print(' Name: ', endereco.split(\"\\\\\")[10], '\\n', 'Channels: ', wf.getnchannels(), '\\n', 'Frames: ', wf.getnframes(), '\\n', 'Frame rate: ', wf.getframerate(), 'Hz', '\\n', 'Samplewidth: ', wf.getsampwidth(), 'bytes', '\\n', 'Duration: ', round(wf.getnframes() / wf.getframerate(), 2), 'seconds')\n",
    "    return infosAudio\n",
    "        \n",
    "relatorio(endereco) \n",
    "\n",
    "\n",
    "# é feito login com a conta de servico para acessar a planilha\n",
    "def login():\n",
    "    credentials = service_account.Credentials.from_service_account_file(key_file)\n",
    "    scoped_credentials = credentials.with_scopes(scopes)\n",
    "    gc = gspread.authorize(scoped_credentials)\n",
    "    return gc\n",
    "\n",
    "# identifica qual linha está vazia na planilha\n",
    "def linhaVazia(planilha):\n",
    "    strList = list(filter(None, planilha.col_values(1)))  #retorna uma lista com as palavras da coluna 1\n",
    "    return (len(strList)+1)\n",
    "\n",
    "\n",
    "#escreve dados na planilha\n",
    "def escritor(title,info):\n",
    "    gc = login()\n",
    "    planilha = gc.open('Audios Transformados_engg51')\n",
    "    planilha = planilha.worksheet('Página 1')\n",
    "    \n",
    "    proximaLinha = linhaVazia(planilha)\n",
    "    refc1 = \"A{}\".format(proximaLinha)\n",
    "    refc2 = \"B{}\".format(proximaLinha)\n",
    "    \n",
    "    planilha.append_row([title], table_range=refc1)\n",
    "    time.sleep(1)\n",
    "    planilha.append_row([info], table_range=refc2)\n",
    "    \n",
    "\n",
    "titles = ['Name', 'Channels', 'Frames', 'Frame rate', 'Sample width', 'Duration']\n",
    "\n",
    "for (title, info) in zip(titles, infosAudio):\n",
    "    i=i+1\n",
    "    escritor(title, info)\n",
    "\n",
    "escritor(\" \", \" \")"
   ]
  },
  {
   "cell_type": "code",
   "execution_count": null,
   "id": "eac28f4e",
   "metadata": {},
   "outputs": [],
   "source": []
  }
 ],
 "metadata": {
  "kernelspec": {
   "display_name": "Python 3 (ipykernel)",
   "language": "python",
   "name": "python3"
  },
  "language_info": {
   "codemirror_mode": {
    "name": "ipython",
    "version": 3
   },
   "file_extension": ".py",
   "mimetype": "text/x-python",
   "name": "python",
   "nbconvert_exporter": "python",
   "pygments_lexer": "ipython3",
   "version": "3.9.12"
  }
 },
 "nbformat": 4,
 "nbformat_minor": 5
}
